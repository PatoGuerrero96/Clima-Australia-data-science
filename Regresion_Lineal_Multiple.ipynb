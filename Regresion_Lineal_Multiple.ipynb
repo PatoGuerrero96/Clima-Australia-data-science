{
 "cells": [
  {
   "cell_type": "code",
   "execution_count": null,
   "metadata": {},
   "outputs": [],
   "source": [
    "#Se importan la librerias a utilizar\n",
    "import pandas as pd\n",
    "import matplotlib.pyplot as plt\n",
    "import numpy as np\n",
    "from sklearn import datasets, linear_model\n",
    "import statsmodels.api as sm"
   ]
  },
  {
   "cell_type": "code",
   "execution_count": null,
   "metadata": {},
   "outputs": [],
   "source": [
    "#Importamos los datos de la misma librería de scikit-learn\n",
    "boston = datasets.load_boston()"
   ]
  },
  {
   "cell_type": "code",
   "execution_count": null,
   "metadata": {},
   "outputs": [],
   "source": [
    "#Verifico la información contenida en el dataset\n",
    "print('Información en el dataset:')\n",
    "print(boston.keys())"
   ]
  },
  {
   "cell_type": "code",
   "execution_count": null,
   "metadata": {},
   "outputs": [],
   "source": [
    "#Verifico las características del dataset\n",
    "print('Características del dataset:')\n",
    "print(boston.DESCR)"
   ]
  },
  {
   "cell_type": "code",
   "execution_count": null,
   "metadata": {},
   "outputs": [],
   "source": [
    "#Verifico la cantidad de datos que hay en los dataset\n",
    "print('Cantidad de datos:')\n",
    "print(boston.data.shape)"
   ]
  },
  {
   "cell_type": "code",
   "execution_count": null,
   "metadata": {},
   "outputs": [],
   "source": [
    "#Verifico la información de las columnas\n",
    "print('Nombres columnas:')\n",
    "print(boston.feature_names)"
   ]
  },
  {
   "cell_type": "code",
   "execution_count": null,
   "metadata": {},
   "outputs": [],
   "source": [
    "#Seleccionamos las columna 5, 6 y 7 del dataset\n",
    "#X_multiple= boston.data[:, [0,1,3,4,5,7,8,9,10,11,12]]\n",
    "#X_multiple = boston.data[:,:]\n",
    "X_multiple = boston.data[:,[5,6,7]]"
   ]
  },
  {
   "cell_type": "code",
   "execution_count": null,
   "metadata": {},
   "outputs": [],
   "source": [
    "#Defino los datos correspondientes a las etiquetas\n",
    "y_multiple = boston.target"
   ]
  },
  {
   "cell_type": "code",
   "execution_count": null,
   "metadata": {},
   "outputs": [],
   "source": [
    "from sklearn.model_selection import train_test_split\n",
    "#Separo los datos de \"train\" en entrenamiento y prueba para probar los algoritmos\n",
    "X_train, X_test, y_train, y_test = train_test_split(X_multiple, y_multiple, test_size=0.2)"
   ]
  },
  {
   "cell_type": "code",
   "execution_count": null,
   "metadata": {},
   "outputs": [],
   "source": [
    "#Defino el algoritmo a utilizar\n",
    "lr_multiple = linear_model.LinearRegression()"
   ]
  },
  {
   "cell_type": "code",
   "execution_count": null,
   "metadata": {},
   "outputs": [],
   "source": [
    "#Entreno el modelo\n",
    "lr_entrenado=lr_multiple.fit(X_train, y_train)"
   ]
  },
  {
   "cell_type": "code",
   "execution_count": null,
   "metadata": {},
   "outputs": [],
   "source": [
    "#Realizo una predicción\n",
    "Y_pred_multiple = lr_multiple.predict(X_test)"
   ]
  },
  {
   "cell_type": "code",
   "execution_count": null,
   "metadata": {},
   "outputs": [],
   "source": [
    "df = pd.DataFrame({'Real': y_test.flatten(), 'Predicción': Y_pred_multiple.flatten()})\n",
    "df"
   ]
  },
  {
   "cell_type": "code",
   "execution_count": null,
   "metadata": {},
   "outputs": [],
   "source": [
    "print('DATOS DEL MODELO REGRESIÓN LINEAL MULTIPLE')\n",
    "print()\n",
    "print('Valor de las pendientes o coeficientes \"a\":')\n",
    "print(lr_multiple.coef_)\n",
    "print('Valor de la intersección o coeficiente \"b\":')\n",
    "print(lr_multiple.intercept_)"
   ]
  },
  {
   "cell_type": "code",
   "execution_count": null,
   "metadata": {},
   "outputs": [],
   "source": [
    "coeff_df = pd.DataFrame(lr_multiple.coef_, boston.feature_names[[5,6,7]], columns=['Coeficientes'])  \n",
    "coeff_df"
   ]
  },
  {
   "cell_type": "markdown",
   "metadata": {},
   "source": [
    "# Fórmula de Regresión Lineal para predecir el precio\n",
    "\n",
    "Precio = 8.62*RM - 0.088*AGE - 0.489*DIS - 23.39"
   ]
  },
  {
   "cell_type": "code",
   "execution_count": null,
   "metadata": {},
   "outputs": [],
   "source": [
    "print('Precisión del modelo:')\n",
    "R2 = lr_multiple.score(X_train, y_train)\n",
    "print(R2)"
   ]
  },
  {
   "cell_type": "code",
   "execution_count": null,
   "metadata": {},
   "outputs": [],
   "source": [
    "from sklearn.metrics import mean_squared_error\n",
    "from sklearn import metrics\n",
    "from math import sqrt\n",
    "RMSE = np.sqrt(metrics.mean_squared_error(y_test, Y_pred_multiple))\n",
    "MAE=metrics.mean_absolute_error(y_test, Y_pred_multiple)\n",
    "MSE = metrics.mean_squared_error(y_test, Y_pred_multiple)\n",
    "print('Root Mean Squared Error:', RMSE)\n",
    "print('Mean Absolute Error:', MAE)  \n",
    "print('Mean Squared Error:', MSE)  "
   ]
  },
  {
   "cell_type": "markdown",
   "metadata": {},
   "source": [
    "# Evaluación de los resultados de la Regresión Lineal"
   ]
  },
  {
   "cell_type": "code",
   "execution_count": null,
   "metadata": {},
   "outputs": [],
   "source": [
    "## Vector de Desempeño - Resumen de Métricas del Modelo\n",
    "df = pd.DataFrame({'Modelo': ['Regresión Lineal Múltiple'],'R2': [R2], 'RMSE': [RMSE], 'MAE': [MAE], 'MSE': [MSE]})\n",
    "df\n"
   ]
  },
  {
   "cell_type": "markdown",
   "metadata": {},
   "source": [
    "# Estimar la relevancia de los coeficientes"
   ]
  },
  {
   "cell_type": "code",
   "execution_count": null,
   "metadata": {},
   "outputs": [],
   "source": [
    "#Ahora que tiene coeficientes, ¿cómo puede saber si son relevantes para predecir su objetivo?\n",
    "#La mejor forma es encontrar el valor p. El valor p se utiliza para cuantificar la significación estadística"
   ]
  },
  {
   "cell_type": "markdown",
   "metadata": {},
   "source": [
    "¿La hipótesis nula?\n",
    "Para cualquier tarea de modelado, la hipótesis es que existe alguna correlación entre las características y el objetivo. La hipótesis nula es, por tanto, la contraria: no existe correlación entre las características y el objetivo.\n",
    "Entonces, encontrar el valor p para cada coeficiente dirá si la variable es estadísticamente significativa para predecir el objetivo. Como regla general, si el valor p es menor que 0.05 : existe una fuerte relación entre la variable y el objetivo."
   ]
  },
  {
   "cell_type": "code",
   "execution_count": null,
   "metadata": {},
   "outputs": [],
   "source": [
    "X2 = sm.add_constant (X_multiple) \n",
    "est = sm.OLS (y_multiple, X2) \n",
    "est2 = est.fit () \n",
    "print (est2.summary ())"
   ]
  },
  {
   "cell_type": "code",
   "execution_count": null,
   "metadata": {},
   "outputs": [],
   "source": []
  }
 ],
 "metadata": {
  "kernelspec": {
   "display_name": "Python 3",
   "language": "python",
   "name": "python3"
  },
  "language_info": {
   "codemirror_mode": {
    "name": "ipython",
    "version": 3
   },
   "file_extension": ".py",
   "mimetype": "text/x-python",
   "name": "python",
   "nbconvert_exporter": "python",
   "pygments_lexer": "ipython3",
   "version": "3.8.5"
  }
 },
 "nbformat": 4,
 "nbformat_minor": 2
}
